{
 "cells": [
  {
   "cell_type": "code",
   "execution_count": 28,
   "id": "compound-preliminary",
   "metadata": {},
   "outputs": [],
   "source": [
    "from dataclasses import dataclass\n",
    "from datetime import datetime\n",
    "from typing import Generic, TypeVar\n",
    "\n",
    "import pandas as pd\n",
    "\n",
    "T = TypeVar(\"T\")\n",
    "\n",
    "@dataclass\n",
    "class Observation(Generic[T]):\n",
    "    timestamp: datetime\n",
    "    value: T\n",
    "        \n",
    "    def to_df(self):\n",
    "        return pd.DataFrame(self.to_dict())\n",
    "        \n",
    "    def to_dict(self):\n",
    "        return {\n",
    "            \"timestamp\": self.timestamp,\n",
    "            \"value\": self.value.to_dict(),\n",
    "        }"
   ]
  },
  {
   "cell_type": "code",
   "execution_count": 29,
   "id": "institutional-castle",
   "metadata": {},
   "outputs": [],
   "source": [
    "from dataclasses import dataclass\n",
    "\n",
    "import pandas as pd\n",
    "\n",
    "@dataclass\n",
    "class Candle(object):\n",
    "    open: float\n",
    "    high: float\n",
    "    low: float\n",
    "    close: float\n",
    "    volume: float\n",
    "        \n",
    "    def to_df(self):\n",
    "        return pd.DataFrame(self.__to_dict())\n",
    "    \n",
    "    def to_dict(self):\n",
    "        return {\n",
    "            \"open\": self.open,\n",
    "            \"high\": self.high,\n",
    "            \"low\": self.low,\n",
    "            \"close\": self.close,\n",
    "            \"volume\": self.volume,\n",
    "        }"
   ]
  },
  {
   "cell_type": "code",
   "execution_count": 30,
   "id": "urban-priority",
   "metadata": {},
   "outputs": [],
   "source": [
    "def typical_price(candle: Candle) -> float:\n",
    "    return (candle.high + candle.low + candle.close) / 3"
   ]
  },
  {
   "cell_type": "code",
   "execution_count": 31,
   "id": "measured-ukraine",
   "metadata": {},
   "outputs": [],
   "source": [
    "def cumvol(candles: list[Observation[Candle]]) -> float:\n",
    "    return sum([x.value.volume for x in candles])"
   ]
  },
  {
   "cell_type": "code",
   "execution_count": 32,
   "id": "parental-wireless",
   "metadata": {},
   "outputs": [],
   "source": [
    "def tradingview_vwap(obs: list[Observation[Candle]]) -> list[Observation[float]]:\n",
    "    return [\n",
    "        Observation(\n",
    "            x.timestamp,\n",
    "            sum([typical_price(x.value) * x.value.volume for x in obs]) / cumvol(obs)\n",
    "        )\n",
    "        for x in obs\n",
    "    ]"
   ]
  },
  {
   "cell_type": "code",
   "execution_count": 33,
   "id": "brown-james",
   "metadata": {},
   "outputs": [],
   "source": [
    "import requests\n",
    "\n",
    "def get_candles_dydx(ticker: str) -> list[Observation[Candle]]:\n",
    "    return [\n",
    "        Observation(\n",
    "            # this is really gross, hacky, and just generally upsetting -- dYdX uses a non-ISO8601 compliant timestamp so we have to truncate the string ourselves\n",
    "            datetime.fromisoformat(x[\"startedAt\"][:x[\"startedAt\"].find('.')]),\n",
    "            Candle(\n",
    "                float(x[\"open\"]),\n",
    "                float(x[\"high\"]),\n",
    "                float(x[\"low\"]),\n",
    "                float(x[\"close\"]),\n",
    "                float(x[\"usdVolume\"])\n",
    "            )\n",
    "        )\n",
    "        for x in requests.get(f\"https://api.dydx.exchange/v3/candles/{ticker}?resolution=1MIN\").json()[\"candles\"]]"
   ]
  },
  {
   "cell_type": "code",
   "execution_count": 34,
   "id": "experimental-integer",
   "metadata": {},
   "outputs": [],
   "source": [
    "dydx_eth_prices = get_candles_dydx(\"ETH-USD\")"
   ]
  },
  {
   "cell_type": "code",
   "execution_count": 35,
   "id": "suitable-steam",
   "metadata": {},
   "outputs": [],
   "source": [
    "def obs2df(xs: list[Observation[T]]) -> pd.DataFrame:\n",
    "    return pd.DataFrame({ \n",
    "        \"timestamp\": [x.timestamp for x in xs],\n",
    "        \"open\": [x.value.open for x in xs],\n",
    "        \"high\": [x.value.high for x in xs],\n",
    "        \"low\": [x.value.low for x in xs],\n",
    "        \"close\": [x.value.close for x in xs],\n",
    "        \"volume\": [x.value.volume for x in xs],\n",
    "    })"
   ]
  },
  {
   "cell_type": "code",
   "execution_count": 36,
   "id": "criminal-cheese",
   "metadata": {},
   "outputs": [],
   "source": [
    "def vwap_df(vwap: list[Observation[float]]) -> pd.DataFrame:\n",
    "    return pd.DataFrame({\n",
    "        \"timestamp\": [x.timestamp for x in vwap],\n",
    "        \"vwap\": [x.value for x in vwap],\n",
    "    })"
   ]
  },
  {
   "cell_type": "code",
   "execution_count": 40,
   "id": "leading-meter",
   "metadata": {},
   "outputs": [],
   "source": [
    "import finplot as fplt\n",
    "import pandas as pd\n",
    "\n",
    "def plot_candles(candles: list[Observation[Candle]]):\n",
    "    df = obs2df(candles)\n",
    "    fplt.candlestick_ochl(df[[\"timestamp\", \"open\", \"close\", \"high\", \"low\"]])\n",
    "    fplt.show()"
   ]
  },
  {
   "cell_type": "code",
   "execution_count": 41,
   "id": "racial-bloom",
   "metadata": {},
   "outputs": [],
   "source": [
    "import finplot as fplt\n",
    "import pandas as pd\n",
    "\n",
    "def plot_candles_with_vwap(candles: list[Observation[Candle]]):\n",
    "    df = obs2df(candles)\n",
    "    fplt.candlestick_ochl(df[[\"timestamp\", \"open\", \"close\", \"high\", \"low\"]])\n",
    "    fplt.plot(vwap_df(tradingview_vwap(candles)))\n",
    "    fplt.show()"
   ]
  },
  {
   "cell_type": "code",
   "execution_count": 42,
   "id": "green-poultry",
   "metadata": {},
   "outputs": [
    {
     "name": "stdout",
     "output_type": "stream",
     "text": [
      "WARNING: input data source has time in descending order. Try sort_values() before calling.\n",
      "WARNING: input data source has time in descending order. Try sort_values() before calling.\n"
     ]
    }
   ],
   "source": [
    "plot_candles_with_vwap(dydx_eth_prices)"
   ]
  },
  {
   "cell_type": "code",
   "execution_count": null,
   "id": "worse-hollywood",
   "metadata": {},
   "outputs": [],
   "source": []
  }
 ],
 "metadata": {
  "kernelspec": {
   "display_name": "Python 3",
   "language": "python",
   "name": "python3"
  },
  "language_info": {
   "codemirror_mode": {
    "name": "ipython",
    "version": 3
   },
   "file_extension": ".py",
   "mimetype": "text/x-python",
   "name": "python",
   "nbconvert_exporter": "python",
   "pygments_lexer": "ipython3",
   "version": "3.9.2"
  }
 },
 "nbformat": 4,
 "nbformat_minor": 5
}
